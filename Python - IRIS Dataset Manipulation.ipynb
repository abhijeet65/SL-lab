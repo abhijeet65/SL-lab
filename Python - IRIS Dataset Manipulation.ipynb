{
 "cells": [
  {
   "cell_type": "markdown",
   "metadata": {},
   "source": [
    "## DataSet - IRIS flowers dataset"
   ]
  },
  {
   "cell_type": "markdown",
   "metadata": {},
   "source": [
    "This is a python notebook. It is used to have clean code and get instant outputs.\n",
    "The name says it all: It's a **Notebook**."
   ]
  },
  {
   "cell_type": "code",
   "execution_count": 16,
   "metadata": {
    "collapsed": true
   },
   "outputs": [],
   "source": [
    "# Import statements\n",
    "# You can also use read_table() method.\n",
    "# Pandas is used to read and manipulate data in python. It is a tool used in data analysis.\n",
    "\n",
    "import pandas as pd\n"
   ]
  },
  {
   "cell_type": "code",
   "execution_count": 17,
   "metadata": {},
   "outputs": [
    {
     "name": "stdout",
     "output_type": "stream",
     "text": [
      "   0    1    2    3    4            5\n",
      "0  1  5.1  3.5  1.4  0.2  Iris-setosa\n",
      "1  2  4.9  3.0  1.4  0.2  Iris-setosa\n",
      "2  3  4.7  3.2  1.3  0.2  Iris-setosa\n",
      "3  4  4.6  3.1  1.5  0.2  Iris-setosa\n",
      "4  5  5.0  3.6  1.4  0.2  Iris-setosa\n"
     ]
    }
   ],
   "source": [
    "# Reading the dataset\n",
    "# You can also use the URL instead of local file(Iris.csv).\n",
    "# UCI URL(Connectivity issues) : http://archive.ics.uci.edu/ml/machine-learning-databases/iris/iris.data\n",
    "# Kaggle URL(No issue but download required): https://www.kaggle.com/uciml/iris/data\n",
    "\n",
    "orders = pd.read_table('Iris.csv', sep=',', header=None)\n",
    "print (orders.head())"
   ]
  },
  {
   "cell_type": "code",
   "execution_count": 18,
   "metadata": {},
   "outputs": [],
   "source": [
    "# Creating a list of column names\n",
    "# Pay attention to names=iris_cols in the next cell.\n",
    "\n",
    "iris_cols = ['sepal_len', 'sepal_width', 'petal_len', 'petal_width', 'rclass']"
   ]
  },
  {
   "cell_type": "code",
   "execution_count": 34,
   "metadata": {},
   "outputs": [
    {
     "name": "stdout",
     "output_type": "stream",
     "text": [
      "    sepal_len  sepal_width  petal_len  petal_width       rclass\n",
      "1         5.1          3.5        1.4          0.2  Iris-setosa\n",
      "2         4.9          3.0        1.4          0.2  Iris-setosa\n",
      "3         4.7          3.2        1.3          0.2  Iris-setosa\n",
      "4         4.6          3.1        1.5          0.2  Iris-setosa\n",
      "5         5.0          3.6        1.4          0.2  Iris-setosa\n",
      "6         5.4          3.9        1.7          0.4  Iris-setosa\n",
      "7         4.6          3.4        1.4          0.3  Iris-setosa\n",
      "8         5.0          3.4        1.5          0.2  Iris-setosa\n",
      "9         4.4          2.9        1.4          0.2  Iris-setosa\n",
      "10        4.9          3.1        1.5          0.1  Iris-setosa\n"
     ]
    }
   ],
   "source": [
    "# Reading the dataset\n",
    "# The URL to dataset has connectivity issues so you might\n",
    "# prefer saving the dataset to your local machine and reference it from there.\n",
    "# sep = seperator\n",
    "# header = None simply means that we do not have labels for our data.\n",
    "\n",
    "orders = pd.read_csv(\n",
    "    'Iris.csv',\n",
    "    sep=',',\n",
    "    names=iris_cols\n",
    ")\n",
    "print (orders.head(10))"
   ]
  },
  {
   "cell_type": "code",
   "execution_count": 20,
   "metadata": {},
   "outputs": [
    {
     "name": "stdout",
     "output_type": "stream",
     "text": [
      "   sepal_len  sepal_width  petal_len\n",
      "1        5.1          3.5        1.4\n",
      "2        4.9          3.0        1.4\n",
      "3        4.7          3.2        1.3\n",
      "4        4.6          3.1        1.5\n",
      "5        5.0          3.6        1.4\n"
     ]
    }
   ],
   "source": [
    "# Printing individual series\n",
    "print (orders[['sepal_len', 'sepal_width', 'petal_len']].head())"
   ]
  },
  {
   "cell_type": "code",
   "execution_count": 21,
   "metadata": {},
   "outputs": [
    {
     "name": "stdout",
     "output_type": "stream",
     "text": [
      "<class 'pandas.core.frame.DataFrame'>\n",
      "<class 'pandas.core.series.Series'>\n"
     ]
    }
   ],
   "source": [
    "# Getting the type of the 'orders' variable - DataFrame\n",
    "print (type(orders))\n",
    "\n",
    "# Getting the type of the orders['sepal_length'] variable - Series\n",
    "print (type(orders['sepal_len']))"
   ]
  },
  {
   "cell_type": "code",
   "execution_count": 22,
   "metadata": {},
   "outputs": [
    {
     "name": "stdout",
     "output_type": "stream",
     "text": [
      "(150, 5)\n"
     ]
    }
   ],
   "source": [
    "# Getting the size of the dataset\n",
    "# 150 rows and 5 columns\n",
    "print (orders.shape)"
   ]
  },
  {
   "cell_type": "code",
   "execution_count": 23,
   "metadata": {},
   "outputs": [
    {
     "data": {
      "text/html": [
       "<div>\n",
       "<style>\n",
       "    .dataframe thead tr:only-child th {\n",
       "        text-align: right;\n",
       "    }\n",
       "\n",
       "    .dataframe thead th {\n",
       "        text-align: left;\n",
       "    }\n",
       "\n",
       "    .dataframe tbody tr th {\n",
       "        vertical-align: top;\n",
       "    }\n",
       "</style>\n",
       "<table border=\"1\" class=\"dataframe\">\n",
       "  <thead>\n",
       "    <tr style=\"text-align: right;\">\n",
       "      <th></th>\n",
       "      <th>sepal_len</th>\n",
       "      <th>sepal_width</th>\n",
       "      <th>petal_len</th>\n",
       "      <th>petal_width</th>\n",
       "    </tr>\n",
       "  </thead>\n",
       "  <tbody>\n",
       "    <tr>\n",
       "      <th>count</th>\n",
       "      <td>150.000000</td>\n",
       "      <td>150.000000</td>\n",
       "      <td>150.000000</td>\n",
       "      <td>150.000000</td>\n",
       "    </tr>\n",
       "    <tr>\n",
       "      <th>mean</th>\n",
       "      <td>5.843333</td>\n",
       "      <td>3.054000</td>\n",
       "      <td>3.758667</td>\n",
       "      <td>1.198667</td>\n",
       "    </tr>\n",
       "    <tr>\n",
       "      <th>std</th>\n",
       "      <td>0.828066</td>\n",
       "      <td>0.433594</td>\n",
       "      <td>1.764420</td>\n",
       "      <td>0.763161</td>\n",
       "    </tr>\n",
       "    <tr>\n",
       "      <th>min</th>\n",
       "      <td>4.300000</td>\n",
       "      <td>2.000000</td>\n",
       "      <td>1.000000</td>\n",
       "      <td>0.100000</td>\n",
       "    </tr>\n",
       "    <tr>\n",
       "      <th>25%</th>\n",
       "      <td>5.100000</td>\n",
       "      <td>2.800000</td>\n",
       "      <td>1.600000</td>\n",
       "      <td>0.300000</td>\n",
       "    </tr>\n",
       "    <tr>\n",
       "      <th>50%</th>\n",
       "      <td>5.800000</td>\n",
       "      <td>3.000000</td>\n",
       "      <td>4.350000</td>\n",
       "      <td>1.300000</td>\n",
       "    </tr>\n",
       "    <tr>\n",
       "      <th>75%</th>\n",
       "      <td>6.400000</td>\n",
       "      <td>3.300000</td>\n",
       "      <td>5.100000</td>\n",
       "      <td>1.800000</td>\n",
       "    </tr>\n",
       "    <tr>\n",
       "      <th>max</th>\n",
       "      <td>7.900000</td>\n",
       "      <td>4.400000</td>\n",
       "      <td>6.900000</td>\n",
       "      <td>2.500000</td>\n",
       "    </tr>\n",
       "  </tbody>\n",
       "</table>\n",
       "</div>"
      ],
      "text/plain": [
       "        sepal_len  sepal_width   petal_len  petal_width\n",
       "count  150.000000   150.000000  150.000000   150.000000\n",
       "mean     5.843333     3.054000    3.758667     1.198667\n",
       "std      0.828066     0.433594    1.764420     0.763161\n",
       "min      4.300000     2.000000    1.000000     0.100000\n",
       "25%      5.100000     2.800000    1.600000     0.300000\n",
       "50%      5.800000     3.000000    4.350000     1.300000\n",
       "75%      6.400000     3.300000    5.100000     1.800000\n",
       "max      7.900000     4.400000    6.900000     2.500000"
      ]
     },
     "execution_count": 23,
     "metadata": {},
     "output_type": "execute_result"
    }
   ],
   "source": [
    "# Gives the description of the dataset.\n",
    "orders.describe()"
   ]
  },
  {
   "cell_type": "code",
   "execution_count": 24,
   "metadata": {},
   "outputs": [
    {
     "data": {
      "text/plain": [
       "sepal_len      float64\n",
       "sepal_width    float64\n",
       "petal_len      float64\n",
       "petal_width    float64\n",
       "rclass          object\n",
       "dtype: object"
      ]
     },
     "execution_count": 24,
     "metadata": {},
     "output_type": "execute_result"
    }
   ],
   "source": [
    "# Attribute dtypes returns the type of the variable: float, int, string, etc.\n",
    "orders.dtypes"
   ]
  },
  {
   "cell_type": "code",
   "execution_count": 25,
   "metadata": {},
   "outputs": [
    {
     "data": {
      "text/plain": [
       "sepal_len      150\n",
       "sepal_width    150\n",
       "petal_len      150\n",
       "petal_width    150\n",
       "rclass         150\n",
       "dtype: int64"
      ]
     },
     "execution_count": 25,
     "metadata": {},
     "output_type": "execute_result"
    }
   ],
   "source": [
    "# Counts the number of x values in each y value.\n",
    "# Counts the number of rows in each column.\n",
    "orders.count()"
   ]
  },
  {
   "cell_type": "code",
   "execution_count": 26,
   "metadata": {},
   "outputs": [
    {
     "name": "stdout",
     "output_type": "stream",
     "text": [
      "   sepal_len  sepal_width  petal_len  petal_width       rclass  sepal_details\n",
      "1        5.1          3.5        1.4          0.2  Iris-setosa            8.6\n",
      "2        4.9          3.0        1.4          0.2  Iris-setosa            7.9\n",
      "3        4.7          3.2        1.3          0.2  Iris-setosa            7.9\n",
      "4        4.6          3.1        1.5          0.2  Iris-setosa            7.7\n",
      "5        5.0          3.6        1.4          0.2  Iris-setosa            8.6\n"
     ]
    }
   ],
   "source": [
    "# Creating a new series called sepal_details\n",
    "orders['sepal_details'] = orders['sepal_width'] + orders['sepal_len']\n",
    "print (orders.head())"
   ]
  },
  {
   "cell_type": "code",
   "execution_count": 27,
   "metadata": {},
   "outputs": [],
   "source": [
    "# If petal length is greater than 1.5, store it in the orders_length variable.\n",
    "orders_length = orders.petal_len > 1.5"
   ]
  },
  {
   "cell_type": "code",
   "execution_count": 28,
   "metadata": {},
   "outputs": [
    {
     "data": {
      "text/plain": [
       "1     0.2\n",
       "5     0.2\n",
       "6     0.4\n",
       "11    0.2\n",
       "12    0.2\n",
       "Name: petal_width, dtype: float64"
      ]
     },
     "execution_count": 28,
     "metadata": {},
     "output_type": "execute_result"
    }
   ],
   "source": [
    "# Select all those petal widths where petal_len > 1.5 or sepal_width > 3.4\n",
    "\n",
    "orders[\n",
    "    (orders.petal_len>1.5) | (orders.sepal_width>3.4)\n",
    "    ].petal_width.head()"
   ]
  },
  {
   "cell_type": "code",
   "execution_count": 29,
   "metadata": {},
   "outputs": [
    {
     "data": {
      "text/html": [
       "<div>\n",
       "<style>\n",
       "    .dataframe thead tr:only-child th {\n",
       "        text-align: right;\n",
       "    }\n",
       "\n",
       "    .dataframe thead th {\n",
       "        text-align: left;\n",
       "    }\n",
       "\n",
       "    .dataframe tbody tr th {\n",
       "        vertical-align: top;\n",
       "    }\n",
       "</style>\n",
       "<table border=\"1\" class=\"dataframe\">\n",
       "  <thead>\n",
       "    <tr style=\"text-align: right;\">\n",
       "      <th></th>\n",
       "      <th>sepal_length</th>\n",
       "      <th>sepal_width</th>\n",
       "      <th>petal_length</th>\n",
       "      <th>petal_width</th>\n",
       "      <th>rclass</th>\n",
       "      <th>sepal_details</th>\n",
       "    </tr>\n",
       "  </thead>\n",
       "  <tbody>\n",
       "    <tr>\n",
       "      <th>1</th>\n",
       "      <td>5.1</td>\n",
       "      <td>3.5</td>\n",
       "      <td>1.4</td>\n",
       "      <td>0.2</td>\n",
       "      <td>Iris-setosa</td>\n",
       "      <td>8.6</td>\n",
       "    </tr>\n",
       "    <tr>\n",
       "      <th>2</th>\n",
       "      <td>4.9</td>\n",
       "      <td>3.0</td>\n",
       "      <td>1.4</td>\n",
       "      <td>0.2</td>\n",
       "      <td>Iris-setosa</td>\n",
       "      <td>7.9</td>\n",
       "    </tr>\n",
       "    <tr>\n",
       "      <th>3</th>\n",
       "      <td>4.7</td>\n",
       "      <td>3.2</td>\n",
       "      <td>1.3</td>\n",
       "      <td>0.2</td>\n",
       "      <td>Iris-setosa</td>\n",
       "      <td>7.9</td>\n",
       "    </tr>\n",
       "    <tr>\n",
       "      <th>4</th>\n",
       "      <td>4.6</td>\n",
       "      <td>3.1</td>\n",
       "      <td>1.5</td>\n",
       "      <td>0.2</td>\n",
       "      <td>Iris-setosa</td>\n",
       "      <td>7.7</td>\n",
       "    </tr>\n",
       "    <tr>\n",
       "      <th>5</th>\n",
       "      <td>5.0</td>\n",
       "      <td>3.6</td>\n",
       "      <td>1.4</td>\n",
       "      <td>0.2</td>\n",
       "      <td>Iris-setosa</td>\n",
       "      <td>8.6</td>\n",
       "    </tr>\n",
       "  </tbody>\n",
       "</table>\n",
       "</div>"
      ],
      "text/plain": [
       "   sepal_length  sepal_width  petal_length  petal_width       rclass  \\\n",
       "1           5.1          3.5           1.4          0.2  Iris-setosa   \n",
       "2           4.9          3.0           1.4          0.2  Iris-setosa   \n",
       "3           4.7          3.2           1.3          0.2  Iris-setosa   \n",
       "4           4.6          3.1           1.5          0.2  Iris-setosa   \n",
       "5           5.0          3.6           1.4          0.2  Iris-setosa   \n",
       "\n",
       "   sepal_details  \n",
       "1            8.6  \n",
       "2            7.9  \n",
       "3            7.9  \n",
       "4            7.7  \n",
       "5            8.6  "
      ]
     },
     "execution_count": 29,
     "metadata": {},
     "output_type": "execute_result"
    }
   ],
   "source": [
    "# Renaming the column names\n",
    "orders.rename(columns={\n",
    "    'sepal_len':'sepal_length',\n",
    "    'petal_len': 'petal_length'\n",
    "}).head()"
   ]
  },
  {
   "cell_type": "code",
   "execution_count": 30,
   "metadata": {},
   "outputs": [
    {
     "data": {
      "text/plain": [
       "1.1986666666666668"
      ]
     },
     "execution_count": 30,
     "metadata": {},
     "output_type": "execute_result"
    }
   ],
   "source": [
    "orders.petal_width.mean()"
   ]
  },
  {
   "cell_type": "code",
   "execution_count": 31,
   "metadata": {},
   "outputs": [
    {
     "data": {
      "text/plain": [
       "rclass\n",
       "Iris-setosa        0.244\n",
       "Iris-versicolor    1.326\n",
       "Iris-virginica     2.026\n",
       "Name: petal_width, dtype: float64"
      ]
     },
     "execution_count": 31,
     "metadata": {},
     "output_type": "execute_result"
    }
   ],
   "source": [
    "orders.groupby('rclass').petal_width.mean()"
   ]
  }
 ],
 "metadata": {
  "kernelspec": {
   "display_name": "Python [conda env:carnd-term1]",
   "language": "python",
   "name": "conda-env-carnd-term1-py"
  },
  "language_info": {
   "codemirror_mode": {
    "name": "ipython",
    "version": 3
   },
   "file_extension": ".py",
   "mimetype": "text/x-python",
   "name": "python",
   "nbconvert_exporter": "python",
   "pygments_lexer": "ipython3",
   "version": "3.5.2"
  }
 },
 "nbformat": 4,
 "nbformat_minor": 2
}
