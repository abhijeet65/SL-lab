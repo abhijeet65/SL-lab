{
 "cells": [
  {
   "cell_type": "markdown",
   "metadata": {},
   "source": [
    "# Data Analysis of the Titanic data set\n"
   ]
  },
  {
   "cell_type": "markdown",
   "metadata": {},
   "source": [
    "### Questions to answer:\n",
    "\n",
    "#### 1. What factors made people more likely to survive?\n",
    "#### 2. How many passengers embarked on S,C or Q?\n",
    "#### 3. How many passengers were male and female respectively?\n",
    "#### 4. What was the minimum and maximum age of the passengers?\n",
    "#### 5. What was the minimum, maximum and mean fare for traveling in Titanic? \n"
   ]
  },
  {
   "cell_type": "markdown",
   "metadata": {},
   "source": [
    " "
   ]
  },
  {
   "cell_type": "markdown",
   "metadata": {},
   "source": [
    " "
   ]
  },
  {
   "cell_type": "markdown",
   "metadata": {},
   "source": [
    "**We start by loading the data in a Pandas DataFrame.**"
   ]
  },
  {
   "cell_type": "code",
   "execution_count": 291,
   "metadata": {},
   "outputs": [
    {
     "name": "stdout",
     "output_type": "stream",
     "text": [
      "<class 'pandas.core.frame.DataFrame'>\n",
      "RangeIndex: 891 entries, 0 to 890\n",
      "Data columns (total 12 columns):\n",
      "PassengerId    891 non-null int64\n",
      "Survived       891 non-null int64\n",
      "Pclass         891 non-null int64\n",
      "Name           891 non-null object\n",
      "Sex            891 non-null object\n",
      "Age            714 non-null float64\n",
      "SibSp          891 non-null int64\n",
      "Parch          891 non-null int64\n",
      "Ticket         891 non-null object\n",
      "Fare           891 non-null float64\n",
      "Cabin          204 non-null object\n",
      "Embarked       889 non-null object\n",
      "dtypes: float64(2), int64(5), object(5)\n",
      "memory usage: 83.6+ KB\n"
     ]
    }
   ],
   "source": [
    "import pandas as pd\n",
    "import numpy as np\n",
    "import matplotlib.pyplot as plt\n",
    "import seaborn as sns\n",
    "%matplotlib inline\n",
    "\n",
    "# Reading the data and cleaning it\n",
    "titanic_data = pd.read_csv('titanic-data.csv')\n",
    "titanic_data.info()\n"
   ]
  },
  {
   "cell_type": "markdown",
   "metadata": {},
   "source": [
    "**\n",
    "We can clearly see that 'Age', 'Cabin', 'Embarked' colums have missing values which needs to be handled. <br>\n",
    "Handling Missing values: I am excluding the missing values because using the mean age would give me biased results.<br>**\n",
    "**We can observe some NaN values in the Age column of the original given titanic data. Also, not all cabin data is given in the data. Since we don't need cabin values in our analysis process, we simply remove that column.**"
   ]
  },
  {
   "cell_type": "code",
   "execution_count": 292,
   "metadata": {},
   "outputs": [
    {
     "name": "stdout",
     "output_type": "stream",
     "text": [
      "Number of Age data missing:  177\n",
      "Number of Cabin data missing:  687\n",
      "Number of Embarked data missing:  2\n"
     ]
    }
   ],
   "source": [
    "missing_age_count = 0\n",
    "for value in titanic_data['Age']:\n",
    "    if pd.isnull(value):\n",
    "        missing_age_count += 1\n",
    "print \"Number of Age data missing: \", missing_age_count\n",
    "\n",
    "missing_cabin_count = 0\n",
    "for value in titanic_data['Cabin']:\n",
    "    if pd.isnull(value):\n",
    "        missing_cabin_count += 1\n",
    "print \"Number of Cabin data missing: \", missing_cabin_count\n",
    "\n",
    "emb = 0\n",
    "for value in titanic_data['Embarked']:\n",
    "    if pd.isnull(value):\n",
    "        emb += 1\n",
    "print \"Number of Embarked data missing: \", emb\n"
   ]
  },
  {
   "cell_type": "markdown",
   "metadata": {},
   "source": [
    "**It is observed that there are 177 missing Age values, 687 missing cabin values and 2 missing embarked values in the data.\n",
    "In the data wrangling process, the rows which contain NaN values in the 'Age' column and 'Embarked' are removed in order to clean the data. Also, the cabin column is simply removed because we don't need the cabin data for our analysis.** \n"
   ]
  },
  {
   "cell_type": "code",
   "execution_count": 293,
   "metadata": {},
   "outputs": [
    {
     "name": "stdout",
     "output_type": "stream",
     "text": [
      "<class 'pandas.core.frame.DataFrame'>\n",
      "RangeIndex: 712 entries, 0 to 711\n",
      "Data columns (total 12 columns):\n",
      "index          712 non-null int64\n",
      "PassengerId    712 non-null int64\n",
      "Survived       712 non-null int64\n",
      "Pclass         712 non-null int64\n",
      "Name           712 non-null object\n",
      "Sex            712 non-null object\n",
      "Age            712 non-null float64\n",
      "SibSp          712 non-null int64\n",
      "Parch          712 non-null int64\n",
      "Ticket         712 non-null object\n",
      "Fare           712 non-null float64\n",
      "Embarked       712 non-null object\n",
      "dtypes: float64(2), int64(6), object(4)\n",
      "memory usage: 66.8+ KB\n"
     ]
    }
   ],
   "source": [
    "# Dropping the Nan values in 'Age' column and Embarked column.\n",
    "clean_data = titanic_data.dropna(subset=['Age', 'Embarked'])\n",
    "\n",
    "# Since we don't need 'Cabin' Column,\n",
    "# we remove it.\n",
    "new_data = clean_data.drop('Cabin', axis=1)\n",
    "\n",
    "# Finding the number of survivors\n",
    "survivors = new_data.loc[new_data['Survived'] == 1]\n",
    "\n",
    "# The index of the data is reset.\n",
    "new_data = new_data.reset_index()\n",
    "new_data.info()\n"
   ]
  },
  {
   "cell_type": "markdown",
   "metadata": {},
   "source": [
    "**The data is cleaned as per our requirements. The rows with missing age values and embarked values are removed and the cabin values are also removed. Then, I have reset the index of the data.\n",
    "I am not using PassengerId, SibSp, Parch and Ticket colums in the analysis because no important conclusions can be drawn from them.**"
   ]
  },
  {
   "cell_type": "code",
   "execution_count": 294,
   "metadata": {
    "scrolled": true
   },
   "outputs": [
    {
     "name": "stdout",
     "output_type": "stream",
     "text": [
      "Passengers from S :  554\n",
      "Passengers from C :  130\n",
      "Passengers from Q :  28\n"
     ]
    },
    {
     "data": {
      "image/png": "[encoded data removed]",
      "text/plain": [
       "<matplotlib.figure.Figure at 0x12dcc2850>"
      ]
     },
     "metadata": {},
     "output_type": "display_data"
    }
   ],
   "source": [
    "# Number of people embarked\n",
    "# on S, C and Q.\n",
    "S_list = []\n",
    "C_list = []\n",
    "Q_list = []\n",
    "\n",
    "# Loop to find the number of people boarding at different stations\n",
    "for value in new_data['Embarked']:\n",
    "    if value == 'S':\n",
    "        S_list.append(value)\n",
    "    elif value == 'C':\n",
    "        C_list.append(value)\n",
    "    elif value == 'Q':\n",
    "        Q_list.append(value)\n",
    "\n",
    "print \"Passengers from S : \", len(S_list)\n",
    "print \"Passengers from C : \", len(C_list)\n",
    "print \"Passengers from Q : \", len(Q_list)\n",
    "embark_plot = sns.countplot(data=new_data, x='Embarked')\n",
    "embark_plot.set_title(\"People boarding at different stations\");\n"
   ]
  },
  {
   "cell_type": "markdown",
   "metadata": {},
   "source": [
    "**In this step, passengers boarding at different stations are analyzed. This will give us a sense about where most of the people boarded.<br>\n",
    "This shows that there were most passengers from S followed by C and Q.**"
   ]
  },
  {
   "cell_type": "code",
   "execution_count": 295,
   "metadata": {},
   "outputs": [
    {
     "name": "stdout",
     "output_type": "stream",
     "text": [
      "Total male passengers:  453\n",
      "Total female Passengers:  259\n"
     ]
    },
    {
     "data": {
      "image/png": "[encoded data removed]",
      "text/plain": [
       "<matplotlib.figure.Figure at 0x120933cd0>"
      ]
     },
     "metadata": {},
     "output_type": "display_data"
    }
   ],
   "source": [
    "# Finding the total female and male passengers\n",
    "female = 0\n",
    "male = 0\n",
    "total_passengers = len(new_data)\n",
    "for people in new_data['Sex']:\n",
    "    if people == 'female':\n",
    "        female = female + 1\n",
    "    elif people == 'male':\n",
    "        male = male + 1\n",
    "\n",
    "print \"Total male passengers: \", male\n",
    "print \"Total female Passengers: \", female\n",
    "sex_plot = sns.countplot(x=\"Sex\", data=new_data)\n",
    "sex_plot.set_title(\"Count of Male and Female Passengers before titanic sank\");\n"
   ]
  },
  {
   "cell_type": "markdown",
   "metadata": {},
   "source": [
    "**To know about the number of male and female passengers, we plot this data.<br>\n",
    "The plot shows the total number of male and female passengers on board. This shows that there are more male passengers than female passengers before the titanic sank.**"
   ]
  },
  {
   "cell_type": "code",
   "execution_count": 296,
   "metadata": {},
   "outputs": [
    {
     "data": {
      "image/png": "[encoded data removed]",
      "text/plain": [
       "<matplotlib.figure.Figure at 0x12de7efd0>"
      ]
     },
     "metadata": {},
     "output_type": "display_data"
    }
   ],
   "source": [
    "# Plot to show relation between Passenger class and\n",
    "# passengers who survived\n",
    "cls_sur_plot = sns.factorplot('Pclass', 'Survived', data=new_data, kind='bar')\n",
    "cls_sur_plot.fig.suptitle(\"Relation between class and survival\");\n"
   ]
  },
  {
   "cell_type": "markdown",
   "metadata": {},
   "source": [
    "**We want to know whether the class of the passenger is related to it's survival. For this, we plot the Pclass vs Survived plot.<br>\n",
    "This plot shows the relation between the people who survived and the class they travelled in. This shows that the passengers traveling in class 1 survived the most.**"
   ]
  },
  {
   "cell_type": "code",
   "execution_count": 297,
   "metadata": {},
   "outputs": [
    {
     "data": {
      "image/png": "[encoded data removed]",
      "text/plain": [
       "<matplotlib.figure.Figure at 0x12e220690>"
      ]
     },
     "metadata": {},
     "output_type": "display_data"
    }
   ],
   "source": [
    "sex_sur_plot = sns.factorplot('Sex', 'Survived', data=new_data, kind='bar')\n",
    "sex_sur_plot.fig.suptitle(\"Relation between sex and survival\");\n"
   ]
  },
  {
   "cell_type": "markdown",
   "metadata": {},
   "source": [
    "**To know whether the sex of the passenger was related to their survival, we plot the data.<br>\n",
    "This plot shows the relation between the sex of the passengers and survival. It shows  that female passengers survived more than male passengers. Rather, the number of females outnumbered the males by a huge difference after the titanic sank.**"
   ]
  },
  {
   "cell_type": "code",
   "execution_count": 298,
   "metadata": {},
   "outputs": [
    {
     "data": {
      "image/png": "[encoded data removed]",
      "text/plain": [
       "<matplotlib.figure.Figure at 0x11f736d10>"
      ]
     },
     "metadata": {},
     "output_type": "display_data"
    }
   ],
   "source": [
    "cls_sex_sur_plot = sns.factorplot('Pclass', 'Survived', hue='Sex', data=new_data, kind='bar')\n",
    "cls_sex_sur_plot.fig.suptitle(\"Relation between class, sex and survival\");\n"
   ]
  },
  {
   "cell_type": "markdown",
   "metadata": {},
   "source": [
    "**This plot is plotted to show the relation between the variables sex, class and survival.<br>\n",
    "This plot shows the relation between the sex, class and survivals of the passengers. It shows that female passengers were saved before male passengers and upper class passengers were preferred over lower class passengers.**"
   ]
  },
  {
   "cell_type": "code",
   "execution_count": 304,
   "metadata": {},
   "outputs": [
    {
     "name": "stdout",
     "output_type": "stream",
     "text": [
      "Max age of the passengers:  80\n",
      "Min age of the passengers:  0\n"
     ]
    },
    {
     "data": {
      "text/plain": [
       "<matplotlib.text.Text at 0x12eed6810>"
      ]
     },
     "execution_count": 304,
     "metadata": {},
     "output_type": "execute_result"
    },
    {
     "data": {
      "image/png": "[encoded data removed]",
      "text/plain": [
       "<matplotlib.figure.Figure at 0x12ed4fc10>"
      ]
     },
     "metadata": {},
     "output_type": "display_data"
    }
   ],
   "source": [
    "# Showing the minimum and maximum fare\n",
    "# and the min and max ages of the passengers\n",
    "\n",
    "max_age = int(new_data['Age'].max())\n",
    "min_age = int(new_data['Age'].min())\n",
    "print \"Max age of the passengers: \", max_age\n",
    "print \"Min age of the passengers: \", min_age\n",
    "\n",
    "age_plot = new_data['Age'].hist(bins=150)\n",
    "age_plot.set_title(\"Plot showing the distribution of ages.\")\n",
    "age_plot.set_xlabel(\"Age\")\n",
    "age_plot.set_ylabel(\"Number of passengers\")\n",
    "\n"
   ]
  },
  {
   "cell_type": "markdown",
   "metadata": {},
   "source": [
    "**This shows that most of the passengers were from the mid-age group. The oldest passenger was 80 years old and the youngest was few months old. Here, I have considered integral values of ages only. **"
   ]
  },
  {
   "cell_type": "code",
   "execution_count": 300,
   "metadata": {},
   "outputs": [
    {
     "name": "stdout",
     "output_type": "stream",
     "text": [
      "Min fare of Titanic:  0.0\n",
      "Max fare of Titanic:  512.3292\n",
      "Mean fare of the Titanic:  29.6420926966\n"
     ]
    }
   ],
   "source": [
    "max_fare = new_data['Fare'].max()\n",
    "min_fare = new_data['Fare'].min()\n",
    "mean_fare = new_data['Age'].mean()\n",
    "print \"Min fare of Titanic: \", min_fare\n",
    "print \"Max fare of Titanic: \", max_fare\n",
    "print \"Mean fare of the Titanic: \", mean_fare"
   ]
  },
  {
   "cell_type": "markdown",
   "metadata": {},
   "source": [
    "**The maximum fare of the Titanic was \\$512.3292 and minumum fare was \\$0.0 (They may have not charged for infants). The mean fare was \\$29.70.**"
   ]
  },
  {
   "cell_type": "code",
   "execution_count": 301,
   "metadata": {
    "collapsed": true
   },
   "outputs": [],
   "source": [
    "# This code finds male and female survivors of different classes.\n",
    "# The result is stored in a Data frame called class_survivors.\n",
    "\n",
    "fc1_survivors = 0\n",
    "fc2_survivors = 0\n",
    "fc3_survivors = 0\n",
    "mc1_survivors = 0\n",
    "mc2_survivors = 0\n",
    "mc3_survivors = 0\n",
    "\n",
    "# Loop to find survivors of different class\n",
    "# to check whether most of the survivors\n",
    "# were from upper classes.\n",
    "\n",
    "for index, row in survivors.iterrows():\n",
    "    if row['Sex'] == 'female':\n",
    "        if row['Pclass'] == 1:\n",
    "            fc1_survivors += 1\n",
    "\n",
    "        elif row['Pclass'] == 2:\n",
    "            fc2_survivors += 1\n",
    "\n",
    "        elif row['Pclass'] == 3:\n",
    "            fc3_survivors += 1\n",
    "\n",
    "    elif row['Sex'] == 'male':\n",
    "        if row['Pclass'] == 1:\n",
    "            mc1_survivors += 1\n",
    "\n",
    "        elif row['Pclass'] == 2:\n",
    "            mc2_survivors += 1\n",
    "\n",
    "        elif row['Pclass'] == 3:\n",
    "            mc3_survivors += 1\n",
    "\n",
    "class_survivors = {\n",
    "    'Male Survivors by class(1-3)':\n",
    "        [mc1_survivors, mc2_survivors, mc3_survivors],\n",
    "    'Female Survivors by class(1-3)':\n",
    "        [fc1_survivors, fc2_survivors, fc3_survivors]\n",
    "}\n"
   ]
  },
  {
   "cell_type": "code",
   "execution_count": 302,
   "metadata": {},
   "outputs": [
    {
     "name": "stdout",
     "output_type": "stream",
     "text": [
      "People on board:  712\n",
      "People survived:  288\n",
      "Male Survivors:  93\n",
      "Female Survivors:  195\n",
      "{'Male Survivors by class(1-3)': [40, 15, 38], 'Female Survivors by class(1-3)': [80, 68, 47]}\n"
     ]
    },
    {
     "data": {
      "image/png": "[encoded data removed]",
      "text/plain": [
       "<matplotlib.figure.Figure at 0x12d6bd2d0>"
      ]
     },
     "metadata": {},
     "output_type": "display_data"
    }
   ],
   "source": [
    "female_survivors = 0\n",
    "male_survivors = 0\n",
    "total_survivors = len(survivors)\n",
    "for people in survivors['Sex']:\n",
    "    if people == 'female':\n",
    "        female_survivors = female_survivors + 1\n",
    "    elif people == 'male':\n",
    "        male_survivors = male_survivors + 1\n",
    "\n",
    "print \"People on board: \", len(new_data['Age'])\n",
    "print \"People survived: \", len(survivors['Age'])\n",
    "print \"Male Survivors: \", male_survivors\n",
    "print \"Female Survivors: \", female_survivors\n",
    "print class_survivors\n",
    "\n",
    "# Plots showing the Passenger Class, Sex and survival\n",
    "class_sex_sur_plot = sns.barplot(x=\"Sex\", y=\"Survived\", hue=\"Pclass\", data=new_data)\n",
    "class_sex_sur_plot.set(xlabel=\"Sex\", ylabel=\"Survival Proportion\", title='Relation between sex, class and gender');\n"
   ]
  },
  {
   "cell_type": "markdown",
   "metadata": {},
   "source": [
    "**The plot is showing that there were more female survivors than male survivors and in those survivors, most of the survivors from both the genders were from class 1 or upper class.\n",
    "It can be infered that women were tried to save first and first class passengers were preferred over others.**"
   ]
  },
  {
   "cell_type": "code",
   "execution_count": 303,
   "metadata": {},
   "outputs": [
    {
     "data": {
      "image/png": "[encoded data removed]",
      "text/plain": [
       "<matplotlib.figure.Figure at 0x12ea15250>"
      ]
     },
     "metadata": {},
     "output_type": "display_data"
    }
   ],
   "source": [
    "passenger_plot = plt.hist(new_data['Age'])\n",
    "survivor_plot = plt.hist(survivors['Age'])\n",
    "plt.title('Plots showing a difference between the passenger\\'s age and survivor\\'s age ');\n",
    "plt.xlabel('Age');\n",
    "plt.ylabel('Number of People');\n"
   ]
  },
  {
   "cell_type": "markdown",
   "metadata": {},
   "source": [
    "**This plot shows that the difference between the passengers and survivors is least in the age group of 0-10.\n",
    "This shows that children were tried to save first.**"
   ]
  },
  {
   "cell_type": "markdown",
   "metadata": {},
   "source": [
    "# Conclusions"
   ]
  },
  {
   "cell_type": "markdown",
   "metadata": {},
   "source": [
    "**Based on the above analysis, I can conclude that-**\n",
    "1. Most people boarded from S.\n",
    "2. There were 453 male passengers and 259 female passengers.\n",
    "3. Most of the survivors were passengers traveling in class-1, therefore upper class people were saved before lower class people when the titanic sank.\n",
    "4. Female survivors outnumber the male survivors by a huge difference, therefore female passengers were saved before the male passengers.\n",
    "5. Most of the survivors are females from the first class followed by females from the lower classes and then the males from upper class to lower class, therefore it can be infered that females were given first preference and upper class passengers were saved before the lower class passengers.\n",
    "6. 288 people out of the 712 people survived. 195 female survivors and 93 male survivors.\n",
    "7. The difference in number of passengers and survivors is least in the age group of 0-10, therefore more children were saved than the adults.\n",
    "8. To travel in a titanic, the maximum fare was \\$512.3292 and minumum fare was \\$0.0 (They may have not charged for infants). The mean fare was \\$29.70.\n",
    "9. The titanic consisted people from a few months old(age=0) to 80 years of age."
   ]
  },
  {
   "cell_type": "markdown",
   "metadata": {},
   "source": [
    "# Limitations of the Analysis"
   ]
  },
  {
   "cell_type": "markdown",
   "metadata": {},
   "source": [
    "1. My findings are only based on the given dataset. Because I can correlate the survival factors with the data does not mean that those factors actually influenced the survival. Correlation does not imply causation.\n",
    "2. The given data is a sample and not a population so the observations may not be accurate.\n",
    "3. There are variables which I did not choose to analyze. Those may also have affected the survival rate.\n",
    "4. Handling Missing Values: There were values that were missing which has been excluded from the dataset. Therefore, the analysis cannot be true since a lot of sample data is missing. As the sample is made much smaller, the observations may be far from the observations made from population.\n",
    "5. Some passengers may have died later due to injuries which has not been mentioned. This affects our observation by giving false data."
   ]
  },
  {
   "cell_type": "markdown",
   "metadata": {},
   "source": [
    "# References"
   ]
  },
  {
   "cell_type": "markdown",
   "metadata": {},
   "source": [
    "1. https://Stackoverflow.com\n",
    "2. https://guides.github.com/features/mastering-markdown/\n",
    "3. https://seaborn.pydata.org/\n",
    "4. https://pandas.pydata.org\n",
    "5. http://matplotlib.org/\n",
    "6. [Udacity Videos](https://in.udacity.com/)"
   ]
  }
 ],
 "metadata": {
  "kernelspec": {
   "display_name": "Python [conda root]",
   "language": "python",
   "name": "conda-root-py"
  },
  "language_info": {
   "codemirror_mode": {
    "name": "ipython",
    "version": 2
   },
   "file_extension": ".py",
   "mimetype": "text/x-python",
   "name": "python",
   "nbconvert_exporter": "python",
   "pygments_lexer": "ipython2",
   "version": "2.7.13"
  }
 },
 "nbformat": 4,
 "nbformat_minor": 2
}
